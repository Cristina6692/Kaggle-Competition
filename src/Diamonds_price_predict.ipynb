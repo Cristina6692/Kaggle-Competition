{
 "cells": [
  {
   "cell_type": "markdown",
   "metadata": {},
   "source": [
    "#  **PREDICTING DIAMONDS PRICES**"
   ]
  },
  {
   "cell_type": "markdown",
   "metadata": {},
   "source": [
    "## Modelos:  \n",
    "- LinearRegression: **modelo_1**( *Diamonds_train sub X_train/X_test* ), **modelo_2**(*Diamonds_train completo*), **model_7, model_8**\n",
    "- Randomforest Regressor: **modelo_3**( Diamonds_train sub train/test ), **modelo_4**(*Diamonds_train completo*, **model_9, model_11, model_12, model_13**.\n",
    "- GradientBoosting Regressor: **modelo_5**( Diamonds_train sub train/test ), **modelo_6**(*Diamonds_train completo*, **model_10** \n",
    "- KNeighborsRegressor: **model_14**."
   ]
  },
  {
   "cell_type": "code",
   "execution_count": 70,
   "metadata": {},
   "outputs": [],
   "source": [
    "import pandas as pd\n",
    "from sklearn.model_selection import train_test_split\n",
    "from sklearn.linear_model import LinearRegression\n",
    "from sklearn import ensemble"
   ]
  },
  {
   "cell_type": "markdown",
   "metadata": {},
   "source": [
    "## **Features**\n",
    "- **id**: only for test & sample submission files, id for prediction sample identification.  \n",
    "- **price**: price in USD.  \n",
    "- **carat**: weight of the diamond.  \n",
    "- **cut**: quality of the cut (Fair, Good, Very Good, Premium, Ideal).  \n",
    "- **color**: diamond colour, from J (worst) to D (best).  \n",
    "- **clarity**: a measurement of how clear the diamond is (I1 (worst), SI2, SI1, VS2, VS1, VVS2, VVS1, IF (best)).  \n",
    "- **x**: length in mm.  \n",
    "- **y**: width in mm.  \n",
    "- **z**: depth in mm.  \n",
    "- **depth**: total depth percentage = z / mean(x, y) = 2 * z / (x + y) (43--79).  \n",
    "- **table**: width of top of diamond relative to widest point (43--95).  "
   ]
  },
  {
   "cell_type": "markdown",
   "metadata": {},
   "source": [
    "## Descargamos el csv  diamonds_train "
   ]
  },
  {
   "cell_type": "code",
   "execution_count": 3,
   "metadata": {},
   "outputs": [],
   "source": [
    "diamonds = pd.read_csv('../Inputs/diamonds_train.csv')\n",
    "diamonds_copy = diamonds.copy"
   ]
  },
  {
   "cell_type": "markdown",
   "metadata": {},
   "source": [
    "#### Visualizamos el df"
   ]
  },
  {
   "cell_type": "code",
   "execution_count": 4,
   "metadata": {},
   "outputs": [
    {
     "data": {
      "text/html": [
       "<div>\n",
       "<style scoped>\n",
       "    .dataframe tbody tr th:only-of-type {\n",
       "        vertical-align: middle;\n",
       "    }\n",
       "\n",
       "    .dataframe tbody tr th {\n",
       "        vertical-align: top;\n",
       "    }\n",
       "\n",
       "    .dataframe thead th {\n",
       "        text-align: right;\n",
       "    }\n",
       "</style>\n",
       "<table border=\"1\" class=\"dataframe\">\n",
       "  <thead>\n",
       "    <tr style=\"text-align: right;\">\n",
       "      <th></th>\n",
       "      <th>id</th>\n",
       "      <th>carat</th>\n",
       "      <th>cut</th>\n",
       "      <th>color</th>\n",
       "      <th>clarity</th>\n",
       "      <th>depth</th>\n",
       "      <th>table</th>\n",
       "      <th>x</th>\n",
       "      <th>y</th>\n",
       "      <th>z</th>\n",
       "      <th>price</th>\n",
       "    </tr>\n",
       "  </thead>\n",
       "  <tbody>\n",
       "    <tr>\n",
       "      <th>0</th>\n",
       "      <td>0</td>\n",
       "      <td>0.78</td>\n",
       "      <td>Premium</td>\n",
       "      <td>F</td>\n",
       "      <td>VS1</td>\n",
       "      <td>61.5</td>\n",
       "      <td>58.0</td>\n",
       "      <td>5.93</td>\n",
       "      <td>5.98</td>\n",
       "      <td>3.66</td>\n",
       "      <td>3446</td>\n",
       "    </tr>\n",
       "    <tr>\n",
       "      <th>1</th>\n",
       "      <td>1</td>\n",
       "      <td>0.31</td>\n",
       "      <td>Ideal</td>\n",
       "      <td>D</td>\n",
       "      <td>SI1</td>\n",
       "      <td>60.8</td>\n",
       "      <td>56.0</td>\n",
       "      <td>4.37</td>\n",
       "      <td>4.32</td>\n",
       "      <td>2.64</td>\n",
       "      <td>732</td>\n",
       "    </tr>\n",
       "    <tr>\n",
       "      <th>2</th>\n",
       "      <td>2</td>\n",
       "      <td>0.30</td>\n",
       "      <td>Ideal</td>\n",
       "      <td>F</td>\n",
       "      <td>SI1</td>\n",
       "      <td>62.3</td>\n",
       "      <td>54.0</td>\n",
       "      <td>4.30</td>\n",
       "      <td>4.34</td>\n",
       "      <td>2.69</td>\n",
       "      <td>475</td>\n",
       "    </tr>\n",
       "    <tr>\n",
       "      <th>3</th>\n",
       "      <td>3</td>\n",
       "      <td>1.04</td>\n",
       "      <td>Ideal</td>\n",
       "      <td>E</td>\n",
       "      <td>VVS2</td>\n",
       "      <td>62.0</td>\n",
       "      <td>58.0</td>\n",
       "      <td>6.54</td>\n",
       "      <td>6.46</td>\n",
       "      <td>4.03</td>\n",
       "      <td>9552</td>\n",
       "    </tr>\n",
       "    <tr>\n",
       "      <th>4</th>\n",
       "      <td>4</td>\n",
       "      <td>0.65</td>\n",
       "      <td>Ideal</td>\n",
       "      <td>J</td>\n",
       "      <td>SI1</td>\n",
       "      <td>61.4</td>\n",
       "      <td>55.0</td>\n",
       "      <td>5.58</td>\n",
       "      <td>5.62</td>\n",
       "      <td>3.44</td>\n",
       "      <td>1276</td>\n",
       "    </tr>\n",
       "  </tbody>\n",
       "</table>\n",
       "</div>"
      ],
      "text/plain": [
       "   id  carat      cut color clarity  depth  table     x     y     z  price\n",
       "0   0   0.78  Premium     F     VS1   61.5   58.0  5.93  5.98  3.66   3446\n",
       "1   1   0.31    Ideal     D     SI1   60.8   56.0  4.37  4.32  2.64    732\n",
       "2   2   0.30    Ideal     F     SI1   62.3   54.0  4.30  4.34  2.69    475\n",
       "3   3   1.04    Ideal     E    VVS2   62.0   58.0  6.54  6.46  4.03   9552\n",
       "4   4   0.65    Ideal     J     SI1   61.4   55.0  5.58  5.62  3.44   1276"
      ]
     },
     "metadata": {},
     "output_type": "display_data"
    },
    {
     "name": "stdout",
     "output_type": "stream",
     "text": [
      "Shape:  (40345, 11)\n"
     ]
    },
    {
     "data": {
      "text/html": [
       "<div>\n",
       "<style scoped>\n",
       "    .dataframe tbody tr th:only-of-type {\n",
       "        vertical-align: middle;\n",
       "    }\n",
       "\n",
       "    .dataframe tbody tr th {\n",
       "        vertical-align: top;\n",
       "    }\n",
       "\n",
       "    .dataframe thead th {\n",
       "        text-align: right;\n",
       "    }\n",
       "</style>\n",
       "<table border=\"1\" class=\"dataframe\">\n",
       "  <thead>\n",
       "    <tr style=\"text-align: right;\">\n",
       "      <th></th>\n",
       "      <th>id</th>\n",
       "      <th>carat</th>\n",
       "      <th>depth</th>\n",
       "      <th>table</th>\n",
       "      <th>x</th>\n",
       "      <th>y</th>\n",
       "      <th>z</th>\n",
       "      <th>price</th>\n",
       "    </tr>\n",
       "  </thead>\n",
       "  <tbody>\n",
       "    <tr>\n",
       "      <th>count</th>\n",
       "      <td>40345.000000</td>\n",
       "      <td>40345.000000</td>\n",
       "      <td>40345.000000</td>\n",
       "      <td>40345.000000</td>\n",
       "      <td>40345.000000</td>\n",
       "      <td>40345.000000</td>\n",
       "      <td>40345.000000</td>\n",
       "      <td>40345.000000</td>\n",
       "    </tr>\n",
       "    <tr>\n",
       "      <th>mean</th>\n",
       "      <td>20172.000000</td>\n",
       "      <td>0.797699</td>\n",
       "      <td>61.749721</td>\n",
       "      <td>57.449421</td>\n",
       "      <td>5.730824</td>\n",
       "      <td>5.734808</td>\n",
       "      <td>3.537958</td>\n",
       "      <td>3931.902243</td>\n",
       "    </tr>\n",
       "    <tr>\n",
       "      <th>std</th>\n",
       "      <td>11646.742642</td>\n",
       "      <td>0.474309</td>\n",
       "      <td>1.427728</td>\n",
       "      <td>2.234087</td>\n",
       "      <td>1.121767</td>\n",
       "      <td>1.151536</td>\n",
       "      <td>0.695039</td>\n",
       "      <td>3994.318832</td>\n",
       "    </tr>\n",
       "    <tr>\n",
       "      <th>min</th>\n",
       "      <td>0.000000</td>\n",
       "      <td>0.200000</td>\n",
       "      <td>43.000000</td>\n",
       "      <td>43.000000</td>\n",
       "      <td>0.000000</td>\n",
       "      <td>0.000000</td>\n",
       "      <td>0.000000</td>\n",
       "      <td>326.000000</td>\n",
       "    </tr>\n",
       "    <tr>\n",
       "      <th>25%</th>\n",
       "      <td>10086.000000</td>\n",
       "      <td>0.400000</td>\n",
       "      <td>61.000000</td>\n",
       "      <td>56.000000</td>\n",
       "      <td>4.710000</td>\n",
       "      <td>4.720000</td>\n",
       "      <td>2.910000</td>\n",
       "      <td>952.000000</td>\n",
       "    </tr>\n",
       "    <tr>\n",
       "      <th>50%</th>\n",
       "      <td>20172.000000</td>\n",
       "      <td>0.700000</td>\n",
       "      <td>61.800000</td>\n",
       "      <td>57.000000</td>\n",
       "      <td>5.690000</td>\n",
       "      <td>5.710000</td>\n",
       "      <td>3.520000</td>\n",
       "      <td>2397.000000</td>\n",
       "    </tr>\n",
       "    <tr>\n",
       "      <th>75%</th>\n",
       "      <td>30258.000000</td>\n",
       "      <td>1.040000</td>\n",
       "      <td>62.500000</td>\n",
       "      <td>59.000000</td>\n",
       "      <td>6.540000</td>\n",
       "      <td>6.540000</td>\n",
       "      <td>4.030000</td>\n",
       "      <td>5317.000000</td>\n",
       "    </tr>\n",
       "    <tr>\n",
       "      <th>max</th>\n",
       "      <td>40344.000000</td>\n",
       "      <td>5.010000</td>\n",
       "      <td>79.000000</td>\n",
       "      <td>95.000000</td>\n",
       "      <td>10.740000</td>\n",
       "      <td>58.900000</td>\n",
       "      <td>8.060000</td>\n",
       "      <td>18823.000000</td>\n",
       "    </tr>\n",
       "  </tbody>\n",
       "</table>\n",
       "</div>"
      ],
      "text/plain": [
       "                 id         carat         depth         table             x  \\\n",
       "count  40345.000000  40345.000000  40345.000000  40345.000000  40345.000000   \n",
       "mean   20172.000000      0.797699     61.749721     57.449421      5.730824   \n",
       "std    11646.742642      0.474309      1.427728      2.234087      1.121767   \n",
       "min        0.000000      0.200000     43.000000     43.000000      0.000000   \n",
       "25%    10086.000000      0.400000     61.000000     56.000000      4.710000   \n",
       "50%    20172.000000      0.700000     61.800000     57.000000      5.690000   \n",
       "75%    30258.000000      1.040000     62.500000     59.000000      6.540000   \n",
       "max    40344.000000      5.010000     79.000000     95.000000     10.740000   \n",
       "\n",
       "                  y             z         price  \n",
       "count  40345.000000  40345.000000  40345.000000  \n",
       "mean       5.734808      3.537958   3931.902243  \n",
       "std        1.151536      0.695039   3994.318832  \n",
       "min        0.000000      0.000000    326.000000  \n",
       "25%        4.720000      2.910000    952.000000  \n",
       "50%        5.710000      3.520000   2397.000000  \n",
       "75%        6.540000      4.030000   5317.000000  \n",
       "max       58.900000      8.060000  18823.000000  "
      ]
     },
     "metadata": {},
     "output_type": "display_data"
    }
   ],
   "source": [
    "display(diamonds.head())\n",
    "print('Shape: ', diamonds.shape)\n",
    "display(diamonds.describe())"
   ]
  },
  {
   "cell_type": "code",
   "execution_count": 5,
   "metadata": {},
   "outputs": [
    {
     "data": {
      "text/plain": [
       "['Premium', 'Ideal', 'Very Good', 'Fair', 'Good']"
      ]
     },
     "execution_count": 5,
     "metadata": {},
     "output_type": "execute_result"
    }
   ],
   "source": [
    "list(diamonds['cut'].unique())"
   ]
  },
  {
   "cell_type": "markdown",
   "metadata": {},
   "source": [
    "### Empezamos la limpieza de datos "
   ]
  },
  {
   "cell_type": "code",
   "execution_count": 6,
   "metadata": {},
   "outputs": [],
   "source": [
    "diamonds['cut'] = diamonds['cut'].replace({'Fair':0, 'Good':1, 'Very Good':2, 'Premium':3, 'Ideal':4})"
   ]
  },
  {
   "cell_type": "code",
   "execution_count": 7,
   "metadata": {},
   "outputs": [],
   "source": [
    "clar_val = ['I1', 'SI2', 'SI1', 'VS2', 'VS1', 'VVS2', 'VVS1', 'IF']\n",
    "for n,val in enumerate(clar_val):\n",
    "    diamonds['clarity'] = diamonds['clarity'].replace(val,n)"
   ]
  },
  {
   "cell_type": "code",
   "execution_count": 8,
   "metadata": {},
   "outputs": [],
   "source": [
    "diamonds = pd.get_dummies(diamonds)"
   ]
  },
  {
   "cell_type": "code",
   "execution_count": 9,
   "metadata": {},
   "outputs": [
    {
     "data": {
      "text/html": [
       "<div>\n",
       "<style scoped>\n",
       "    .dataframe tbody tr th:only-of-type {\n",
       "        vertical-align: middle;\n",
       "    }\n",
       "\n",
       "    .dataframe tbody tr th {\n",
       "        vertical-align: top;\n",
       "    }\n",
       "\n",
       "    .dataframe thead th {\n",
       "        text-align: right;\n",
       "    }\n",
       "</style>\n",
       "<table border=\"1\" class=\"dataframe\">\n",
       "  <thead>\n",
       "    <tr style=\"text-align: right;\">\n",
       "      <th></th>\n",
       "      <th>id</th>\n",
       "      <th>carat</th>\n",
       "      <th>cut</th>\n",
       "      <th>clarity</th>\n",
       "      <th>depth</th>\n",
       "      <th>table</th>\n",
       "      <th>x</th>\n",
       "      <th>y</th>\n",
       "      <th>z</th>\n",
       "      <th>price</th>\n",
       "      <th>color_D</th>\n",
       "      <th>color_E</th>\n",
       "      <th>color_F</th>\n",
       "      <th>color_G</th>\n",
       "      <th>color_H</th>\n",
       "      <th>color_I</th>\n",
       "      <th>color_J</th>\n",
       "    </tr>\n",
       "  </thead>\n",
       "  <tbody>\n",
       "    <tr>\n",
       "      <th>0</th>\n",
       "      <td>0</td>\n",
       "      <td>0.78</td>\n",
       "      <td>3</td>\n",
       "      <td>4</td>\n",
       "      <td>61.5</td>\n",
       "      <td>58.0</td>\n",
       "      <td>5.93</td>\n",
       "      <td>5.98</td>\n",
       "      <td>3.66</td>\n",
       "      <td>3446</td>\n",
       "      <td>0</td>\n",
       "      <td>0</td>\n",
       "      <td>1</td>\n",
       "      <td>0</td>\n",
       "      <td>0</td>\n",
       "      <td>0</td>\n",
       "      <td>0</td>\n",
       "    </tr>\n",
       "    <tr>\n",
       "      <th>1</th>\n",
       "      <td>1</td>\n",
       "      <td>0.31</td>\n",
       "      <td>4</td>\n",
       "      <td>2</td>\n",
       "      <td>60.8</td>\n",
       "      <td>56.0</td>\n",
       "      <td>4.37</td>\n",
       "      <td>4.32</td>\n",
       "      <td>2.64</td>\n",
       "      <td>732</td>\n",
       "      <td>1</td>\n",
       "      <td>0</td>\n",
       "      <td>0</td>\n",
       "      <td>0</td>\n",
       "      <td>0</td>\n",
       "      <td>0</td>\n",
       "      <td>0</td>\n",
       "    </tr>\n",
       "    <tr>\n",
       "      <th>2</th>\n",
       "      <td>2</td>\n",
       "      <td>0.30</td>\n",
       "      <td>4</td>\n",
       "      <td>2</td>\n",
       "      <td>62.3</td>\n",
       "      <td>54.0</td>\n",
       "      <td>4.30</td>\n",
       "      <td>4.34</td>\n",
       "      <td>2.69</td>\n",
       "      <td>475</td>\n",
       "      <td>0</td>\n",
       "      <td>0</td>\n",
       "      <td>1</td>\n",
       "      <td>0</td>\n",
       "      <td>0</td>\n",
       "      <td>0</td>\n",
       "      <td>0</td>\n",
       "    </tr>\n",
       "    <tr>\n",
       "      <th>3</th>\n",
       "      <td>3</td>\n",
       "      <td>1.04</td>\n",
       "      <td>4</td>\n",
       "      <td>5</td>\n",
       "      <td>62.0</td>\n",
       "      <td>58.0</td>\n",
       "      <td>6.54</td>\n",
       "      <td>6.46</td>\n",
       "      <td>4.03</td>\n",
       "      <td>9552</td>\n",
       "      <td>0</td>\n",
       "      <td>1</td>\n",
       "      <td>0</td>\n",
       "      <td>0</td>\n",
       "      <td>0</td>\n",
       "      <td>0</td>\n",
       "      <td>0</td>\n",
       "    </tr>\n",
       "    <tr>\n",
       "      <th>4</th>\n",
       "      <td>4</td>\n",
       "      <td>0.65</td>\n",
       "      <td>4</td>\n",
       "      <td>2</td>\n",
       "      <td>61.4</td>\n",
       "      <td>55.0</td>\n",
       "      <td>5.58</td>\n",
       "      <td>5.62</td>\n",
       "      <td>3.44</td>\n",
       "      <td>1276</td>\n",
       "      <td>0</td>\n",
       "      <td>0</td>\n",
       "      <td>0</td>\n",
       "      <td>0</td>\n",
       "      <td>0</td>\n",
       "      <td>0</td>\n",
       "      <td>1</td>\n",
       "    </tr>\n",
       "    <tr>\n",
       "      <th>...</th>\n",
       "      <td>...</td>\n",
       "      <td>...</td>\n",
       "      <td>...</td>\n",
       "      <td>...</td>\n",
       "      <td>...</td>\n",
       "      <td>...</td>\n",
       "      <td>...</td>\n",
       "      <td>...</td>\n",
       "      <td>...</td>\n",
       "      <td>...</td>\n",
       "      <td>...</td>\n",
       "      <td>...</td>\n",
       "      <td>...</td>\n",
       "      <td>...</td>\n",
       "      <td>...</td>\n",
       "      <td>...</td>\n",
       "      <td>...</td>\n",
       "    </tr>\n",
       "    <tr>\n",
       "      <th>40340</th>\n",
       "      <td>40340</td>\n",
       "      <td>0.50</td>\n",
       "      <td>4</td>\n",
       "      <td>4</td>\n",
       "      <td>61.9</td>\n",
       "      <td>56.0</td>\n",
       "      <td>5.09</td>\n",
       "      <td>5.12</td>\n",
       "      <td>3.16</td>\n",
       "      <td>1716</td>\n",
       "      <td>0</td>\n",
       "      <td>1</td>\n",
       "      <td>0</td>\n",
       "      <td>0</td>\n",
       "      <td>0</td>\n",
       "      <td>0</td>\n",
       "      <td>0</td>\n",
       "    </tr>\n",
       "    <tr>\n",
       "      <th>40341</th>\n",
       "      <td>40341</td>\n",
       "      <td>0.33</td>\n",
       "      <td>4</td>\n",
       "      <td>3</td>\n",
       "      <td>61.8</td>\n",
       "      <td>56.0</td>\n",
       "      <td>4.40</td>\n",
       "      <td>4.44</td>\n",
       "      <td>2.73</td>\n",
       "      <td>781</td>\n",
       "      <td>1</td>\n",
       "      <td>0</td>\n",
       "      <td>0</td>\n",
       "      <td>0</td>\n",
       "      <td>0</td>\n",
       "      <td>0</td>\n",
       "      <td>0</td>\n",
       "    </tr>\n",
       "    <tr>\n",
       "      <th>40342</th>\n",
       "      <td>40342</td>\n",
       "      <td>0.40</td>\n",
       "      <td>3</td>\n",
       "      <td>6</td>\n",
       "      <td>61.5</td>\n",
       "      <td>58.0</td>\n",
       "      <td>4.69</td>\n",
       "      <td>4.74</td>\n",
       "      <td>2.90</td>\n",
       "      <td>1123</td>\n",
       "      <td>0</td>\n",
       "      <td>0</td>\n",
       "      <td>0</td>\n",
       "      <td>1</td>\n",
       "      <td>0</td>\n",
       "      <td>0</td>\n",
       "      <td>0</td>\n",
       "    </tr>\n",
       "    <tr>\n",
       "      <th>40343</th>\n",
       "      <td>40343</td>\n",
       "      <td>1.06</td>\n",
       "      <td>4</td>\n",
       "      <td>4</td>\n",
       "      <td>61.2</td>\n",
       "      <td>57.0</td>\n",
       "      <td>6.59</td>\n",
       "      <td>6.56</td>\n",
       "      <td>4.03</td>\n",
       "      <td>5651</td>\n",
       "      <td>0</td>\n",
       "      <td>0</td>\n",
       "      <td>0</td>\n",
       "      <td>0</td>\n",
       "      <td>0</td>\n",
       "      <td>1</td>\n",
       "      <td>0</td>\n",
       "    </tr>\n",
       "    <tr>\n",
       "      <th>40344</th>\n",
       "      <td>40344</td>\n",
       "      <td>1.01</td>\n",
       "      <td>2</td>\n",
       "      <td>1</td>\n",
       "      <td>63.4</td>\n",
       "      <td>55.0</td>\n",
       "      <td>6.35</td>\n",
       "      <td>6.29</td>\n",
       "      <td>4.01</td>\n",
       "      <td>3959</td>\n",
       "      <td>0</td>\n",
       "      <td>0</td>\n",
       "      <td>0</td>\n",
       "      <td>0</td>\n",
       "      <td>1</td>\n",
       "      <td>0</td>\n",
       "      <td>0</td>\n",
       "    </tr>\n",
       "  </tbody>\n",
       "</table>\n",
       "<p>40345 rows × 17 columns</p>\n",
       "</div>"
      ],
      "text/plain": [
       "          id  carat  cut  clarity  depth  table     x     y     z  price  \\\n",
       "0          0   0.78    3        4   61.5   58.0  5.93  5.98  3.66   3446   \n",
       "1          1   0.31    4        2   60.8   56.0  4.37  4.32  2.64    732   \n",
       "2          2   0.30    4        2   62.3   54.0  4.30  4.34  2.69    475   \n",
       "3          3   1.04    4        5   62.0   58.0  6.54  6.46  4.03   9552   \n",
       "4          4   0.65    4        2   61.4   55.0  5.58  5.62  3.44   1276   \n",
       "...      ...    ...  ...      ...    ...    ...   ...   ...   ...    ...   \n",
       "40340  40340   0.50    4        4   61.9   56.0  5.09  5.12  3.16   1716   \n",
       "40341  40341   0.33    4        3   61.8   56.0  4.40  4.44  2.73    781   \n",
       "40342  40342   0.40    3        6   61.5   58.0  4.69  4.74  2.90   1123   \n",
       "40343  40343   1.06    4        4   61.2   57.0  6.59  6.56  4.03   5651   \n",
       "40344  40344   1.01    2        1   63.4   55.0  6.35  6.29  4.01   3959   \n",
       "\n",
       "       color_D  color_E  color_F  color_G  color_H  color_I  color_J  \n",
       "0            0        0        1        0        0        0        0  \n",
       "1            1        0        0        0        0        0        0  \n",
       "2            0        0        1        0        0        0        0  \n",
       "3            0        1        0        0        0        0        0  \n",
       "4            0        0        0        0        0        0        1  \n",
       "...        ...      ...      ...      ...      ...      ...      ...  \n",
       "40340        0        1        0        0        0        0        0  \n",
       "40341        1        0        0        0        0        0        0  \n",
       "40342        0        0        0        1        0        0        0  \n",
       "40343        0        0        0        0        0        1        0  \n",
       "40344        0        0        0        0        1        0        0  \n",
       "\n",
       "[40345 rows x 17 columns]"
      ]
     },
     "execution_count": 9,
     "metadata": {},
     "output_type": "execute_result"
    }
   ],
   "source": [
    "diamonds\n"
   ]
  },
  {
   "cell_type": "markdown",
   "metadata": {},
   "source": [
    "#### Creamos dos df para hacer nuestro modelo.   \n",
    "- **X**: nos quedamos con todas las columnas del df menos 'id' y 'price' para entrenar a nuestro modelo\n",
    "- **y**: esta será la columna de los precios, la realidad de lo que queremos predecir "
   ]
  },
  {
   "cell_type": "code",
   "execution_count": 38,
   "metadata": {},
   "outputs": [],
   "source": [
    "X = diamonds.drop(columns = ['id', 'price'])\n",
    "y = diamonds['price']"
   ]
  },
  {
   "cell_type": "markdown",
   "metadata": {},
   "source": [
    "### Normalizamos y estandarizamos nuestros datos de X1 y lo nombramos Xpr"
   ]
  },
  {
   "cell_type": "code",
   "execution_count": 39,
   "metadata": {},
   "outputs": [],
   "source": [
    "from sklearn.preprocessing import StandardScaler, Normalizer\n",
    "from sklearn.pipeline import make_pipeline\n",
    "pipeline = [\n",
    "    StandardScaler(),\n",
    "    Normalizer(),\n",
    "]\n",
    "\n",
    "tr = make_pipeline(*pipeline)\n",
    "\n",
    "X_pr = tr.fit_transform(X)\n",
    "X_pr = pd.DataFrame(X_pr,columns=X.columns)"
   ]
  },
  {
   "cell_type": "code",
   "execution_count": 40,
   "metadata": {},
   "outputs": [
    {
     "data": {
      "text/html": [
       "<div>\n",
       "<style scoped>\n",
       "    .dataframe tbody tr th:only-of-type {\n",
       "        vertical-align: middle;\n",
       "    }\n",
       "\n",
       "    .dataframe tbody tr th {\n",
       "        vertical-align: top;\n",
       "    }\n",
       "\n",
       "    .dataframe thead th {\n",
       "        text-align: right;\n",
       "    }\n",
       "</style>\n",
       "<table border=\"1\" class=\"dataframe\">\n",
       "  <thead>\n",
       "    <tr style=\"text-align: right;\">\n",
       "      <th></th>\n",
       "      <th>carat</th>\n",
       "      <th>cut</th>\n",
       "      <th>clarity</th>\n",
       "      <th>depth</th>\n",
       "      <th>table</th>\n",
       "      <th>x</th>\n",
       "      <th>y</th>\n",
       "      <th>z</th>\n",
       "      <th>color_D</th>\n",
       "      <th>color_E</th>\n",
       "      <th>color_F</th>\n",
       "      <th>color_G</th>\n",
       "      <th>color_H</th>\n",
       "      <th>color_I</th>\n",
       "      <th>color_J</th>\n",
       "    </tr>\n",
       "  </thead>\n",
       "  <tbody>\n",
       "    <tr>\n",
       "      <th>0</th>\n",
       "      <td>-0.015023</td>\n",
       "      <td>0.033951</td>\n",
       "      <td>0.230242</td>\n",
       "      <td>-0.070417</td>\n",
       "      <td>0.099217</td>\n",
       "      <td>0.071483</td>\n",
       "      <td>0.085723</td>\n",
       "      <td>0.070692</td>\n",
       "      <td>-0.153041</td>\n",
       "      <td>-0.189095</td>\n",
       "      <td>0.868710</td>\n",
       "      <td>-0.207405</td>\n",
       "      <td>-0.171552</td>\n",
       "      <td>-0.135294</td>\n",
       "      <td>-0.093625</td>\n",
       "    </tr>\n",
       "    <tr>\n",
       "      <th>1</th>\n",
       "      <td>-0.257773</td>\n",
       "      <td>0.245897</td>\n",
       "      <td>-0.160316</td>\n",
       "      <td>-0.166762</td>\n",
       "      <td>-0.162646</td>\n",
       "      <td>-0.304121</td>\n",
       "      <td>-0.308012</td>\n",
       "      <td>-0.323888</td>\n",
       "      <td>0.659475</td>\n",
       "      <td>-0.117750</td>\n",
       "      <td>-0.116180</td>\n",
       "      <td>-0.129151</td>\n",
       "      <td>-0.106825</td>\n",
       "      <td>-0.084247</td>\n",
       "      <td>-0.058300</td>\n",
       "    </tr>\n",
       "    <tr>\n",
       "      <th>2</th>\n",
       "      <td>-0.268947</td>\n",
       "      <td>0.251402</td>\n",
       "      <td>-0.163904</td>\n",
       "      <td>0.098787</td>\n",
       "      <td>-0.395738</td>\n",
       "      <td>-0.326923</td>\n",
       "      <td>-0.310455</td>\n",
       "      <td>-0.312699</td>\n",
       "      <td>-0.097432</td>\n",
       "      <td>-0.120386</td>\n",
       "      <td>0.553055</td>\n",
       "      <td>-0.132042</td>\n",
       "      <td>-0.109217</td>\n",
       "      <td>-0.086133</td>\n",
       "      <td>-0.059605</td>\n",
       "    </tr>\n",
       "    <tr>\n",
       "      <th>3</th>\n",
       "      <td>0.164660</td>\n",
       "      <td>0.316155</td>\n",
       "      <td>0.379565</td>\n",
       "      <td>0.056503</td>\n",
       "      <td>0.079435</td>\n",
       "      <td>0.232506</td>\n",
       "      <td>0.202988</td>\n",
       "      <td>0.228185</td>\n",
       "      <td>-0.122527</td>\n",
       "      <td>0.686232</td>\n",
       "      <td>-0.149375</td>\n",
       "      <td>-0.166053</td>\n",
       "      <td>-0.137348</td>\n",
       "      <td>-0.108319</td>\n",
       "      <td>-0.074958</td>\n",
       "    </tr>\n",
       "    <tr>\n",
       "      <th>4</th>\n",
       "      <td>-0.065784</td>\n",
       "      <td>0.207209</td>\n",
       "      <td>-0.135092</td>\n",
       "      <td>-0.051746</td>\n",
       "      <td>-0.231614</td>\n",
       "      <td>-0.028403</td>\n",
       "      <td>-0.021062</td>\n",
       "      <td>-0.029774</td>\n",
       "      <td>-0.080305</td>\n",
       "      <td>-0.099224</td>\n",
       "      <td>-0.097901</td>\n",
       "      <td>-0.108831</td>\n",
       "      <td>-0.090018</td>\n",
       "      <td>-0.070992</td>\n",
       "      <td>0.908384</td>\n",
       "    </tr>\n",
       "  </tbody>\n",
       "</table>\n",
       "</div>"
      ],
      "text/plain": [
       "      carat       cut   clarity     depth     table         x         y  \\\n",
       "0 -0.015023  0.033951  0.230242 -0.070417  0.099217  0.071483  0.085723   \n",
       "1 -0.257773  0.245897 -0.160316 -0.166762 -0.162646 -0.304121 -0.308012   \n",
       "2 -0.268947  0.251402 -0.163904  0.098787 -0.395738 -0.326923 -0.310455   \n",
       "3  0.164660  0.316155  0.379565  0.056503  0.079435  0.232506  0.202988   \n",
       "4 -0.065784  0.207209 -0.135092 -0.051746 -0.231614 -0.028403 -0.021062   \n",
       "\n",
       "          z   color_D   color_E   color_F   color_G   color_H   color_I  \\\n",
       "0  0.070692 -0.153041 -0.189095  0.868710 -0.207405 -0.171552 -0.135294   \n",
       "1 -0.323888  0.659475 -0.117750 -0.116180 -0.129151 -0.106825 -0.084247   \n",
       "2 -0.312699 -0.097432 -0.120386  0.553055 -0.132042 -0.109217 -0.086133   \n",
       "3  0.228185 -0.122527  0.686232 -0.149375 -0.166053 -0.137348 -0.108319   \n",
       "4 -0.029774 -0.080305 -0.099224 -0.097901 -0.108831 -0.090018 -0.070992   \n",
       "\n",
       "    color_J  \n",
       "0 -0.093625  \n",
       "1 -0.058300  \n",
       "2 -0.059605  \n",
       "3 -0.074958  \n",
       "4  0.908384  "
      ]
     },
     "execution_count": 40,
     "metadata": {},
     "output_type": "execute_result"
    }
   ],
   "source": [
    "X_pr.head()"
   ]
  },
  {
   "cell_type": "markdown",
   "metadata": {},
   "source": [
    "#### Separamos los datos de X_pr e y en el 80% para entrenar el modelo y el 20% para realizar el test "
   ]
  },
  {
   "cell_type": "code",
   "execution_count": 41,
   "metadata": {},
   "outputs": [],
   "source": [
    "#normalizado y estandarizado\n",
    "X_pr_train, X_pr_test, y_pr_train, y_pr_test = train_test_split(X_pr, y, test_size=0.2)"
   ]
  },
  {
   "cell_type": "markdown",
   "metadata": {},
   "source": [
    "## LinearRegression"
   ]
  },
  {
   "cell_type": "markdown",
   "metadata": {},
   "source": [
    "#### Entrenamos el modelo LinearRegression con X1_train, y1_train"
   ]
  },
  {
   "cell_type": "code",
   "execution_count": 14,
   "metadata": {},
   "outputs": [
    {
     "data": {
      "text/plain": [
       "LinearRegression(copy_X=True, fit_intercept=True, n_jobs=None, normalize=False)"
      ]
     },
     "execution_count": 14,
     "metadata": {},
     "output_type": "execute_result"
    }
   ],
   "source": [
    "model_1 = LinearRegression()\n",
    "model_1.fit(X_pr_train, y_pr_train)"
   ]
  },
  {
   "cell_type": "markdown",
   "metadata": {},
   "source": [
    "#### Hacemos la predicción del precio (y1), para los datos de X1_test"
   ]
  },
  {
   "cell_type": "code",
   "execution_count": 43,
   "metadata": {},
   "outputs": [
    {
     "data": {
      "text/plain": [
       "array([ 2378.21378776, 11560.95497144,  1702.76785111, ...,\n",
       "        5108.92323612, 11242.89743418,  1185.68444325])"
      ]
     },
     "execution_count": 43,
     "metadata": {},
     "output_type": "execute_result"
    }
   ],
   "source": [
    "y_pr_pred = model_1.predict(X_pr_test)\n",
    "y_pr_pred"
   ]
  },
  {
   "cell_type": "markdown",
   "metadata": {},
   "source": [
    "#### Comparamos la prediccion con la realidad "
   ]
  },
  {
   "cell_type": "code",
   "execution_count": 45,
   "metadata": {},
   "outputs": [
    {
     "data": {
      "text/html": [
       "<div>\n",
       "<style scoped>\n",
       "    .dataframe tbody tr th:only-of-type {\n",
       "        vertical-align: middle;\n",
       "    }\n",
       "\n",
       "    .dataframe tbody tr th {\n",
       "        vertical-align: top;\n",
       "    }\n",
       "\n",
       "    .dataframe thead th {\n",
       "        text-align: right;\n",
       "    }\n",
       "</style>\n",
       "<table border=\"1\" class=\"dataframe\">\n",
       "  <thead>\n",
       "    <tr style=\"text-align: right;\">\n",
       "      <th></th>\n",
       "      <th>y_pred</th>\n",
       "      <th>gt</th>\n",
       "    </tr>\n",
       "  </thead>\n",
       "  <tbody>\n",
       "    <tr>\n",
       "      <th>20847</th>\n",
       "      <td>2378.213788</td>\n",
       "      <td>2453</td>\n",
       "    </tr>\n",
       "    <tr>\n",
       "      <th>5259</th>\n",
       "      <td>11560.954971</td>\n",
       "      <td>8709</td>\n",
       "    </tr>\n",
       "    <tr>\n",
       "      <th>37711</th>\n",
       "      <td>1702.767851</td>\n",
       "      <td>1142</td>\n",
       "    </tr>\n",
       "    <tr>\n",
       "      <th>17871</th>\n",
       "      <td>1767.629649</td>\n",
       "      <td>2348</td>\n",
       "    </tr>\n",
       "    <tr>\n",
       "      <th>37066</th>\n",
       "      <td>2184.720841</td>\n",
       "      <td>2789</td>\n",
       "    </tr>\n",
       "  </tbody>\n",
       "</table>\n",
       "</div>"
      ],
      "text/plain": [
       "             y_pred    gt\n",
       "20847   2378.213788  2453\n",
       "5259   11560.954971  8709\n",
       "37711   1702.767851  1142\n",
       "17871   1767.629649  2348\n",
       "37066   2184.720841  2789"
      ]
     },
     "execution_count": 45,
     "metadata": {},
     "output_type": "execute_result"
    }
   ],
   "source": [
    "result = pd.DataFrame({\n",
    "    \"y_pred\":y_pr_pred,\n",
    "    \"gt\":y_pr_test\n",
    "})\n",
    "result.head()"
   ]
  },
  {
   "cell_type": "code",
   "execution_count": 46,
   "metadata": {},
   "outputs": [
    {
     "data": {
      "text/plain": [
       "30321051.616682608"
      ]
     },
     "execution_count": 46,
     "metadata": {},
     "output_type": "execute_result"
    }
   ],
   "source": [
    "from sklearn.metrics import mean_squared_error\n",
    "mean_squared_error(y1_test, y1_pred)"
   ]
  },
  {
   "cell_type": "markdown",
   "metadata": {},
   "source": [
    "### Volvemos a entrenar el modelo pero con el 100% del csv diamonds_train (X_pr,  y)"
   ]
  },
  {
   "cell_type": "code",
   "execution_count": 47,
   "metadata": {},
   "outputs": [
    {
     "data": {
      "text/plain": [
       "LinearRegression(copy_X=True, fit_intercept=True, n_jobs=None, normalize=False)"
      ]
     },
     "execution_count": 47,
     "metadata": {},
     "output_type": "execute_result"
    }
   ],
   "source": [
    "model_2 = LinearRegression()\n",
    "model_2.fit(X_pr, y)\n"
   ]
  },
  {
   "cell_type": "markdown",
   "metadata": {},
   "source": [
    "### Descargamos los datos de diamonds_test y los tratamos igual que los datos de diamonds_train. En este caso no tenemos la columna 'price'"
   ]
  },
  {
   "cell_type": "code",
   "execution_count": 48,
   "metadata": {},
   "outputs": [],
   "source": [
    "diamonds_test = pd.read_csv('../Inputs/diamonds_test.csv')\n",
    "diamonds_test_copy = diamonds_test.copy\n",
    "diamonds_test['cut'] = diamonds_test['cut'].replace({'Fair':0, 'Good':1, 'Very Good':2, 'Premium':3, 'Ideal':4})"
   ]
  },
  {
   "cell_type": "code",
   "execution_count": 49,
   "metadata": {},
   "outputs": [
    {
     "data": {
      "text/plain": [
       "(13449, 16)"
      ]
     },
     "execution_count": 49,
     "metadata": {},
     "output_type": "execute_result"
    }
   ],
   "source": [
    "\n",
    "clar_val = ['I1', 'SI2', 'SI1', 'VS2', 'VS1', 'VVS2', 'VVS1', 'IF']\n",
    "for n,val in enumerate(clar_val):\n",
    "    diamonds_test['clarity'] = diamonds_test['clarity'].replace(val,n)\n",
    "diamonds_test = pd.get_dummies(diamonds_test)\n",
    "\n",
    "diamonds_test.shape"
   ]
  },
  {
   "cell_type": "code",
   "execution_count": 50,
   "metadata": {},
   "outputs": [
    {
     "data": {
      "text/html": [
       "<div>\n",
       "<style scoped>\n",
       "    .dataframe tbody tr th:only-of-type {\n",
       "        vertical-align: middle;\n",
       "    }\n",
       "\n",
       "    .dataframe tbody tr th {\n",
       "        vertical-align: top;\n",
       "    }\n",
       "\n",
       "    .dataframe thead th {\n",
       "        text-align: right;\n",
       "    }\n",
       "</style>\n",
       "<table border=\"1\" class=\"dataframe\">\n",
       "  <thead>\n",
       "    <tr style=\"text-align: right;\">\n",
       "      <th></th>\n",
       "      <th>carat</th>\n",
       "      <th>cut</th>\n",
       "      <th>clarity</th>\n",
       "      <th>depth</th>\n",
       "      <th>table</th>\n",
       "      <th>x</th>\n",
       "      <th>y</th>\n",
       "      <th>z</th>\n",
       "      <th>color_D</th>\n",
       "      <th>color_E</th>\n",
       "      <th>color_F</th>\n",
       "      <th>color_G</th>\n",
       "      <th>color_H</th>\n",
       "      <th>color_I</th>\n",
       "      <th>color_J</th>\n",
       "    </tr>\n",
       "  </thead>\n",
       "  <tbody>\n",
       "    <tr>\n",
       "      <th>0</th>\n",
       "      <td>0.196873</td>\n",
       "      <td>0.027789</td>\n",
       "      <td>-0.383049</td>\n",
       "      <td>0.097582</td>\n",
       "      <td>0.070900</td>\n",
       "      <td>0.262929</td>\n",
       "      <td>0.239398</td>\n",
       "      <td>0.246147</td>\n",
       "      <td>-0.115173</td>\n",
       "      <td>-0.146035</td>\n",
       "      <td>-0.142526</td>\n",
       "      <td>-0.157329</td>\n",
       "      <td>0.718958</td>\n",
       "      <td>-0.100920</td>\n",
       "      <td>-0.073612</td>\n",
       "    </tr>\n",
       "    <tr>\n",
       "      <th>1</th>\n",
       "      <td>-0.167669</td>\n",
       "      <td>0.269837</td>\n",
       "      <td>-0.174395</td>\n",
       "      <td>0.144352</td>\n",
       "      <td>-0.059423</td>\n",
       "      <td>-0.162395</td>\n",
       "      <td>-0.156578</td>\n",
       "      <td>-0.134698</td>\n",
       "      <td>-0.102840</td>\n",
       "      <td>-0.130398</td>\n",
       "      <td>-0.127265</td>\n",
       "      <td>-0.140483</td>\n",
       "      <td>-0.116918</td>\n",
       "      <td>0.832922</td>\n",
       "      <td>-0.065730</td>\n",
       "    </tr>\n",
       "    <tr>\n",
       "      <th>2</th>\n",
       "      <td>0.516568</td>\n",
       "      <td>0.017873</td>\n",
       "      <td>-0.125612</td>\n",
       "      <td>0.021547</td>\n",
       "      <td>0.134000</td>\n",
       "      <td>0.425156</td>\n",
       "      <td>0.418939</td>\n",
       "      <td>0.397514</td>\n",
       "      <td>-0.074074</td>\n",
       "      <td>-0.093922</td>\n",
       "      <td>-0.091666</td>\n",
       "      <td>0.384834</td>\n",
       "      <td>-0.084213</td>\n",
       "      <td>-0.064907</td>\n",
       "      <td>-0.047344</td>\n",
       "    </tr>\n",
       "    <tr>\n",
       "      <th>3</th>\n",
       "      <td>0.246851</td>\n",
       "      <td>0.025541</td>\n",
       "      <td>-0.179502</td>\n",
       "      <td>-0.342208</td>\n",
       "      <td>0.317815</td>\n",
       "      <td>0.309785</td>\n",
       "      <td>0.298803</td>\n",
       "      <td>0.237750</td>\n",
       "      <td>-0.105852</td>\n",
       "      <td>-0.134217</td>\n",
       "      <td>0.607053</td>\n",
       "      <td>-0.144597</td>\n",
       "      <td>-0.120342</td>\n",
       "      <td>-0.092754</td>\n",
       "      <td>-0.067655</td>\n",
       "    </tr>\n",
       "    <tr>\n",
       "      <th>4</th>\n",
       "      <td>-0.175092</td>\n",
       "      <td>0.327228</td>\n",
       "      <td>-0.211486</td>\n",
       "      <td>0.013148</td>\n",
       "      <td>-0.369731</td>\n",
       "      <td>-0.137473</td>\n",
       "      <td>-0.153951</td>\n",
       "      <td>-0.136196</td>\n",
       "      <td>-0.124713</td>\n",
       "      <td>-0.158132</td>\n",
       "      <td>0.715217</td>\n",
       "      <td>-0.170362</td>\n",
       "      <td>-0.141784</td>\n",
       "      <td>-0.109280</td>\n",
       "      <td>-0.079710</td>\n",
       "    </tr>\n",
       "  </tbody>\n",
       "</table>\n",
       "</div>"
      ],
      "text/plain": [
       "      carat       cut   clarity     depth     table         x         y  \\\n",
       "0  0.196873  0.027789 -0.383049  0.097582  0.070900  0.262929  0.239398   \n",
       "1 -0.167669  0.269837 -0.174395  0.144352 -0.059423 -0.162395 -0.156578   \n",
       "2  0.516568  0.017873 -0.125612  0.021547  0.134000  0.425156  0.418939   \n",
       "3  0.246851  0.025541 -0.179502 -0.342208  0.317815  0.309785  0.298803   \n",
       "4 -0.175092  0.327228 -0.211486  0.013148 -0.369731 -0.137473 -0.153951   \n",
       "\n",
       "          z   color_D   color_E   color_F   color_G   color_H   color_I  \\\n",
       "0  0.246147 -0.115173 -0.146035 -0.142526 -0.157329  0.718958 -0.100920   \n",
       "1 -0.134698 -0.102840 -0.130398 -0.127265 -0.140483 -0.116918  0.832922   \n",
       "2  0.397514 -0.074074 -0.093922 -0.091666  0.384834 -0.084213 -0.064907   \n",
       "3  0.237750 -0.105852 -0.134217  0.607053 -0.144597 -0.120342 -0.092754   \n",
       "4 -0.136196 -0.124713 -0.158132  0.715217 -0.170362 -0.141784 -0.109280   \n",
       "\n",
       "    color_J  \n",
       "0 -0.073612  \n",
       "1 -0.065730  \n",
       "2 -0.047344  \n",
       "3 -0.067655  \n",
       "4 -0.079710  "
      ]
     },
     "execution_count": 50,
     "metadata": {},
     "output_type": "execute_result"
    }
   ],
   "source": [
    "X2 = diamonds_test.drop(columns='id')\n",
    "X2_pr = tr.fit_transform(X2)\n",
    "X2_pr = pd.DataFrame(X2_pr,columns=X2.columns)\n",
    "X2_pr.head()"
   ]
  },
  {
   "cell_type": "markdown",
   "metadata": {},
   "source": [
    "#### Hacemos a predicción del precio para X2pr (los datos de los diamantes del test )"
   ]
  },
  {
   "cell_type": "code",
   "execution_count": 51,
   "metadata": {},
   "outputs": [],
   "source": [
    "y2_pr_pred = model_2.predict(X2_pr)"
   ]
  },
  {
   "cell_type": "code",
   "execution_count": null,
   "metadata": {},
   "outputs": [],
   "source": []
  },
  {
   "cell_type": "markdown",
   "metadata": {},
   "source": [
    "#### Añadimos nuestra predicción al df para que cuadren los ids. Nos quedamos solo con las dos columnas que nos interesan y lo pasamos a csv para subirlo a kaggle y ver el resultado "
   ]
  },
  {
   "cell_type": "code",
   "execution_count": 52,
   "metadata": {},
   "outputs": [],
   "source": [
    "diamonds_test['price']=y2_pr_pred"
   ]
  },
  {
   "cell_type": "code",
   "execution_count": 53,
   "metadata": {},
   "outputs": [],
   "source": [
    "price_pred_1  = diamonds_test[['id','price']].set_index('id')"
   ]
  },
  {
   "cell_type": "code",
   "execution_count": 54,
   "metadata": {},
   "outputs": [],
   "source": [
    "price_pred_1.to_csv('3_predict.csv', index=True)"
   ]
  },
  {
   "cell_type": "markdown",
   "metadata": {},
   "source": [
    "## Randomforest Regressor"
   ]
  },
  {
   "cell_type": "code",
   "execution_count": 30,
   "metadata": {},
   "outputs": [],
   "source": [
    "from sklearn.ensemble import RandomForestRegressor"
   ]
  },
  {
   "cell_type": "code",
   "execution_count": 55,
   "metadata": {},
   "outputs": [],
   "source": [
    "# diamonds_train limpio sin normalizar ni escalar. Dividido en X1(features) e y1(ground truth).\n",
    "X1 = diamonds.drop(columns = ['id', 'price'])\n",
    "y1 = diamonds['price']"
   ]
  },
  {
   "cell_type": "code",
   "execution_count": 56,
   "metadata": {},
   "outputs": [],
   "source": [
    "X1_train, X1_test, y1_train, y1_test = train_test_split(X1, y1, test_size=0.2)"
   ]
  },
  {
   "cell_type": "markdown",
   "metadata": {},
   "source": [
    "## Modelo_3 entrenado con el 80% de diamonds_train"
   ]
  },
  {
   "cell_type": "code",
   "execution_count": 57,
   "metadata": {},
   "outputs": [
    {
     "data": {
      "text/plain": [
       "RandomForestRegressor(bootstrap=True, ccp_alpha=0.0, criterion='mse',\n",
       "                      max_depth=None, max_features='auto', max_leaf_nodes=None,\n",
       "                      max_samples=None, min_impurity_decrease=0.0,\n",
       "                      min_impurity_split=None, min_samples_leaf=1,\n",
       "                      min_samples_split=2, min_weight_fraction_leaf=0.0,\n",
       "                      n_estimators=50, n_jobs=None, oob_score=False,\n",
       "                      random_state=None, verbose=0, warm_start=False)"
      ]
     },
     "execution_count": 57,
     "metadata": {},
     "output_type": "execute_result"
    }
   ],
   "source": [
    "model_3 =  RandomForestRegressor(n_estimators=50)\n",
    "model_3.fit(X1_train, y1_train)"
   ]
  },
  {
   "cell_type": "code",
   "execution_count": 58,
   "metadata": {},
   "outputs": [
    {
     "data": {
      "text/plain": [
       "array([ 1035.44,  4426.48,  1075.82, ...,   982.38,  5160.36, 11528.78])"
      ]
     },
     "execution_count": 58,
     "metadata": {},
     "output_type": "execute_result"
    }
   ],
   "source": [
    "y3_pred = model_3.predict(X1_test)\n",
    "y3_pred"
   ]
  },
  {
   "cell_type": "code",
   "execution_count": 61,
   "metadata": {},
   "outputs": [
    {
     "data": {
      "text/html": [
       "<div>\n",
       "<style scoped>\n",
       "    .dataframe tbody tr th:only-of-type {\n",
       "        vertical-align: middle;\n",
       "    }\n",
       "\n",
       "    .dataframe tbody tr th {\n",
       "        vertical-align: top;\n",
       "    }\n",
       "\n",
       "    .dataframe thead th {\n",
       "        text-align: right;\n",
       "    }\n",
       "</style>\n",
       "<table border=\"1\" class=\"dataframe\">\n",
       "  <thead>\n",
       "    <tr style=\"text-align: right;\">\n",
       "      <th></th>\n",
       "      <th>y_pred</th>\n",
       "      <th>gt</th>\n",
       "    </tr>\n",
       "  </thead>\n",
       "  <tbody>\n",
       "    <tr>\n",
       "      <th>12415</th>\n",
       "      <td>1035.44</td>\n",
       "      <td>1050</td>\n",
       "    </tr>\n",
       "    <tr>\n",
       "      <th>39825</th>\n",
       "      <td>4426.48</td>\n",
       "      <td>4390</td>\n",
       "    </tr>\n",
       "    <tr>\n",
       "      <th>22327</th>\n",
       "      <td>1075.82</td>\n",
       "      <td>1115</td>\n",
       "    </tr>\n",
       "    <tr>\n",
       "      <th>16042</th>\n",
       "      <td>4933.38</td>\n",
       "      <td>4872</td>\n",
       "    </tr>\n",
       "    <tr>\n",
       "      <th>35745</th>\n",
       "      <td>1777.36</td>\n",
       "      <td>1723</td>\n",
       "    </tr>\n",
       "  </tbody>\n",
       "</table>\n",
       "</div>"
      ],
      "text/plain": [
       "        y_pred    gt\n",
       "12415  1035.44  1050\n",
       "39825  4426.48  4390\n",
       "22327  1075.82  1115\n",
       "16042  4933.38  4872\n",
       "35745  1777.36  1723"
      ]
     },
     "execution_count": 61,
     "metadata": {},
     "output_type": "execute_result"
    }
   ],
   "source": [
    "result = pd.DataFrame({\n",
    "    \"y_pred\":y3_pred,\n",
    "    \"gt\":y1_test\n",
    "})\n",
    "result.head()"
   ]
  },
  {
   "cell_type": "markdown",
   "metadata": {},
   "source": [
    "## Modelo_4 entrenado con el 100% de diamonds_train"
   ]
  },
  {
   "cell_type": "code",
   "execution_count": 62,
   "metadata": {},
   "outputs": [],
   "source": [
    "model_4 = RandomForestRegressor(n_estimators=50)"
   ]
  },
  {
   "cell_type": "code",
   "execution_count": 63,
   "metadata": {},
   "outputs": [
    {
     "data": {
      "text/plain": [
       "RandomForestRegressor(bootstrap=True, ccp_alpha=0.0, criterion='mse',\n",
       "                      max_depth=None, max_features='auto', max_leaf_nodes=None,\n",
       "                      max_samples=None, min_impurity_decrease=0.0,\n",
       "                      min_impurity_split=None, min_samples_leaf=1,\n",
       "                      min_samples_split=2, min_weight_fraction_leaf=0.0,\n",
       "                      n_estimators=50, n_jobs=None, oob_score=False,\n",
       "                      random_state=None, verbose=0, warm_start=False)"
      ]
     },
     "execution_count": 63,
     "metadata": {},
     "output_type": "execute_result"
    }
   ],
   "source": [
    "model_4.fit(X1, y1)"
   ]
  },
  {
   "cell_type": "markdown",
   "metadata": {},
   "source": [
    "### Aplicamos modelo_4 a diamonds_test sin normallizar ni estandarizar"
   ]
  },
  {
   "cell_type": "code",
   "execution_count": 65,
   "metadata": {},
   "outputs": [
    {
     "data": {
      "text/html": [
       "<div>\n",
       "<style scoped>\n",
       "    .dataframe tbody tr th:only-of-type {\n",
       "        vertical-align: middle;\n",
       "    }\n",
       "\n",
       "    .dataframe tbody tr th {\n",
       "        vertical-align: top;\n",
       "    }\n",
       "\n",
       "    .dataframe thead th {\n",
       "        text-align: right;\n",
       "    }\n",
       "</style>\n",
       "<table border=\"1\" class=\"dataframe\">\n",
       "  <thead>\n",
       "    <tr style=\"text-align: right;\">\n",
       "      <th></th>\n",
       "      <th>carat</th>\n",
       "      <th>cut</th>\n",
       "      <th>clarity</th>\n",
       "      <th>depth</th>\n",
       "      <th>table</th>\n",
       "      <th>x</th>\n",
       "      <th>y</th>\n",
       "      <th>z</th>\n",
       "      <th>color_D</th>\n",
       "      <th>color_E</th>\n",
       "      <th>color_F</th>\n",
       "      <th>color_G</th>\n",
       "      <th>color_H</th>\n",
       "      <th>color_I</th>\n",
       "      <th>color_J</th>\n",
       "    </tr>\n",
       "  </thead>\n",
       "  <tbody>\n",
       "    <tr>\n",
       "      <th>0</th>\n",
       "      <td>1.10</td>\n",
       "      <td>3</td>\n",
       "      <td>1</td>\n",
       "      <td>62.2</td>\n",
       "      <td>58.0</td>\n",
       "      <td>6.69</td>\n",
       "      <td>6.60</td>\n",
       "      <td>4.13</td>\n",
       "      <td>0</td>\n",
       "      <td>0</td>\n",
       "      <td>0</td>\n",
       "      <td>0</td>\n",
       "      <td>1</td>\n",
       "      <td>0</td>\n",
       "      <td>0</td>\n",
       "    </tr>\n",
       "    <tr>\n",
       "      <th>1</th>\n",
       "      <td>0.51</td>\n",
       "      <td>4</td>\n",
       "      <td>2</td>\n",
       "      <td>62.5</td>\n",
       "      <td>57.0</td>\n",
       "      <td>5.07</td>\n",
       "      <td>5.10</td>\n",
       "      <td>3.18</td>\n",
       "      <td>0</td>\n",
       "      <td>0</td>\n",
       "      <td>0</td>\n",
       "      <td>0</td>\n",
       "      <td>0</td>\n",
       "      <td>1</td>\n",
       "      <td>0</td>\n",
       "    </tr>\n",
       "    <tr>\n",
       "      <th>2</th>\n",
       "      <td>2.03</td>\n",
       "      <td>3</td>\n",
       "      <td>2</td>\n",
       "      <td>61.9</td>\n",
       "      <td>59.0</td>\n",
       "      <td>8.14</td>\n",
       "      <td>8.09</td>\n",
       "      <td>5.02</td>\n",
       "      <td>0</td>\n",
       "      <td>0</td>\n",
       "      <td>0</td>\n",
       "      <td>1</td>\n",
       "      <td>0</td>\n",
       "      <td>0</td>\n",
       "      <td>0</td>\n",
       "    </tr>\n",
       "    <tr>\n",
       "      <th>3</th>\n",
       "      <td>1.21</td>\n",
       "      <td>3</td>\n",
       "      <td>2</td>\n",
       "      <td>60.0</td>\n",
       "      <td>60.0</td>\n",
       "      <td>6.96</td>\n",
       "      <td>6.91</td>\n",
       "      <td>4.16</td>\n",
       "      <td>0</td>\n",
       "      <td>0</td>\n",
       "      <td>1</td>\n",
       "      <td>0</td>\n",
       "      <td>0</td>\n",
       "      <td>0</td>\n",
       "      <td>0</td>\n",
       "    </tr>\n",
       "    <tr>\n",
       "      <th>4</th>\n",
       "      <td>0.55</td>\n",
       "      <td>4</td>\n",
       "      <td>2</td>\n",
       "      <td>61.8</td>\n",
       "      <td>55.0</td>\n",
       "      <td>5.27</td>\n",
       "      <td>5.22</td>\n",
       "      <td>3.24</td>\n",
       "      <td>0</td>\n",
       "      <td>0</td>\n",
       "      <td>1</td>\n",
       "      <td>0</td>\n",
       "      <td>0</td>\n",
       "      <td>0</td>\n",
       "      <td>0</td>\n",
       "    </tr>\n",
       "  </tbody>\n",
       "</table>\n",
       "</div>"
      ],
      "text/plain": [
       "   carat  cut  clarity  depth  table     x     y     z  color_D  color_E  \\\n",
       "0   1.10    3        1   62.2   58.0  6.69  6.60  4.13        0        0   \n",
       "1   0.51    4        2   62.5   57.0  5.07  5.10  3.18        0        0   \n",
       "2   2.03    3        2   61.9   59.0  8.14  8.09  5.02        0        0   \n",
       "3   1.21    3        2   60.0   60.0  6.96  6.91  4.16        0        0   \n",
       "4   0.55    4        2   61.8   55.0  5.27  5.22  3.24        0        0   \n",
       "\n",
       "   color_F  color_G  color_H  color_I  color_J  \n",
       "0        0        0        1        0        0  \n",
       "1        0        0        0        1        0  \n",
       "2        0        1        0        0        0  \n",
       "3        1        0        0        0        0  \n",
       "4        1        0        0        0        0  "
      ]
     },
     "execution_count": 65,
     "metadata": {},
     "output_type": "execute_result"
    }
   ],
   "source": [
    "X2.head()"
   ]
  },
  {
   "cell_type": "code",
   "execution_count": 66,
   "metadata": {},
   "outputs": [],
   "source": [
    "y_pred_mod4 = model_4.predict(X2)"
   ]
  },
  {
   "cell_type": "code",
   "execution_count": 69,
   "metadata": {},
   "outputs": [],
   "source": [
    "diamonds_test['price']=y_pred_mod4\n",
    "price_pred_2  = diamonds_test[['id','price']].set_index('id')\n",
    "price_pred_2.to_csv('4_predict.csv', index=True)"
   ]
  },
  {
   "cell_type": "markdown",
   "metadata": {},
   "source": [
    "# GradientBoostingRegressor"
   ]
  },
  {
   "cell_type": "code",
   "execution_count": 71,
   "metadata": {},
   "outputs": [],
   "source": [
    "params = {'n_estimators': 500, 'max_depth': 4, 'min_samples_split': 2,\n",
    "          'learning_rate': 0.01, 'loss': 'ls'}\n",
    "model_5 = ensemble.GradientBoostingRegressor(**params)\n",
    "\n",
    "model_5.fit(X1_train, y1_train)\n",
    "y5_pred = model_5.predict(X1_test)\n"
   ]
  },
  {
   "cell_type": "code",
   "execution_count": 72,
   "metadata": {},
   "outputs": [],
   "source": [
    "from sklearn.metrics import mean_squared_error"
   ]
  },
  {
   "cell_type": "code",
   "execution_count": 74,
   "metadata": {},
   "outputs": [
    {
     "name": "stdout",
     "output_type": "stream",
     "text": [
      "MSE: 476369.9052\n"
     ]
    }
   ],
   "source": [
    "mse = mean_squared_error(y1_test, y5_pred)\n",
    "print(\"MSE: %.4f\" % mse)"
   ]
  },
  {
   "cell_type": "markdown",
   "metadata": {},
   "source": [
    "### Entrenamos el modelo_5 con el 100% de d_train"
   ]
  },
  {
   "cell_type": "code",
   "execution_count": 77,
   "metadata": {},
   "outputs": [
    {
     "data": {
      "text/plain": [
       "GradientBoostingRegressor(alpha=0.9, ccp_alpha=0.0, criterion='friedman_mse',\n",
       "                          init=None, learning_rate=0.01, loss='ls', max_depth=4,\n",
       "                          max_features=None, max_leaf_nodes=None,\n",
       "                          min_impurity_decrease=0.0, min_impurity_split=None,\n",
       "                          min_samples_leaf=1, min_samples_split=2,\n",
       "                          min_weight_fraction_leaf=0.0, n_estimators=500,\n",
       "                          n_iter_no_change=None, presort='deprecated',\n",
       "                          random_state=None, subsample=1.0, tol=0.0001,\n",
       "                          validation_fraction=0.1, verbose=0, warm_start=False)"
      ]
     },
     "execution_count": 77,
     "metadata": {},
     "output_type": "execute_result"
    }
   ],
   "source": [
    "model_6 = ensemble.GradientBoostingRegressor(**params)\n",
    "model_6.fit(X1, y1)"
   ]
  },
  {
   "cell_type": "code",
   "execution_count": 78,
   "metadata": {},
   "outputs": [],
   "source": [
    "y_pred_mod6 = model_6.predict(X2)"
   ]
  },
  {
   "cell_type": "code",
   "execution_count": 79,
   "metadata": {},
   "outputs": [],
   "source": [
    "diamonds_test['price']=y_pred_mod6\n",
    "price_pred_3  = diamonds_test[['id','price']].set_index('id')\n",
    "price_pred_3.to_csv('6_predict.csv', index=True)"
   ]
  },
  {
   "cell_type": "markdown",
   "metadata": {},
   "source": [
    "# Probamos a tratar los datos de otra forma\n",
    "### Probamos eliminando algunas columnas"
   ]
  },
  {
   "cell_type": "code",
   "execution_count": 82,
   "metadata": {},
   "outputs": [
    {
     "data": {
      "text/html": [
       "<div>\n",
       "<style scoped>\n",
       "    .dataframe tbody tr th:only-of-type {\n",
       "        vertical-align: middle;\n",
       "    }\n",
       "\n",
       "    .dataframe tbody tr th {\n",
       "        vertical-align: top;\n",
       "    }\n",
       "\n",
       "    .dataframe thead th {\n",
       "        text-align: right;\n",
       "    }\n",
       "</style>\n",
       "<table border=\"1\" class=\"dataframe\">\n",
       "  <thead>\n",
       "    <tr style=\"text-align: right;\">\n",
       "      <th></th>\n",
       "      <th>carat</th>\n",
       "      <th>cut</th>\n",
       "      <th>clarity</th>\n",
       "      <th>depth</th>\n",
       "      <th>table</th>\n",
       "      <th>x</th>\n",
       "      <th>y</th>\n",
       "      <th>z</th>\n",
       "      <th>color_D</th>\n",
       "      <th>color_E</th>\n",
       "      <th>color_F</th>\n",
       "      <th>color_G</th>\n",
       "      <th>color_H</th>\n",
       "      <th>color_I</th>\n",
       "      <th>color_J</th>\n",
       "    </tr>\n",
       "  </thead>\n",
       "  <tbody>\n",
       "    <tr>\n",
       "      <th>carat</th>\n",
       "      <td>1.000000</td>\n",
       "      <td>-0.131246</td>\n",
       "      <td>-0.299308</td>\n",
       "      <td>0.026642</td>\n",
       "      <td>0.174722</td>\n",
       "      <td>0.979011</td>\n",
       "      <td>0.977812</td>\n",
       "      <td>0.975435</td>\n",
       "      <td>-0.085474</td>\n",
       "      <td>-0.124199</td>\n",
       "      <td>-0.035231</td>\n",
       "      <td>-0.009006</td>\n",
       "      <td>0.108798</td>\n",
       "      <td>0.137890</td>\n",
       "      <td>0.141862</td>\n",
       "    </tr>\n",
       "    <tr>\n",
       "      <th>cut</th>\n",
       "      <td>-0.131246</td>\n",
       "      <td>1.000000</td>\n",
       "      <td>0.158073</td>\n",
       "      <td>-0.219491</td>\n",
       "      <td>-0.422856</td>\n",
       "      <td>-0.113188</td>\n",
       "      <td>-0.115529</td>\n",
       "      <td>-0.139107</td>\n",
       "      <td>0.004457</td>\n",
       "      <td>-0.000170</td>\n",
       "      <td>-0.008127</td>\n",
       "      <td>0.043150</td>\n",
       "      <td>-0.016825</td>\n",
       "      <td>-0.017100</td>\n",
       "      <td>-0.042756</td>\n",
       "    </tr>\n",
       "    <tr>\n",
       "      <th>clarity</th>\n",
       "      <td>-0.299308</td>\n",
       "      <td>0.158073</td>\n",
       "      <td>1.000000</td>\n",
       "      <td>-0.056163</td>\n",
       "      <td>-0.145960</td>\n",
       "      <td>-0.320383</td>\n",
       "      <td>-0.315191</td>\n",
       "      <td>-0.321890</td>\n",
       "      <td>-0.081518</td>\n",
       "      <td>-0.047616</td>\n",
       "      <td>0.005973</td>\n",
       "      <td>0.122585</td>\n",
       "      <td>-0.022093</td>\n",
       "      <td>0.002139</td>\n",
       "      <td>-0.018233</td>\n",
       "    </tr>\n",
       "    <tr>\n",
       "      <th>depth</th>\n",
       "      <td>0.026642</td>\n",
       "      <td>-0.219491</td>\n",
       "      <td>-0.056163</td>\n",
       "      <td>1.000000</td>\n",
       "      <td>-0.257089</td>\n",
       "      <td>-0.023352</td>\n",
       "      <td>-0.025598</td>\n",
       "      <td>0.093842</td>\n",
       "      <td>-0.010419</td>\n",
       "      <td>-0.022630</td>\n",
       "      <td>-0.013430</td>\n",
       "      <td>0.003920</td>\n",
       "      <td>0.023663</td>\n",
       "      <td>0.021352</td>\n",
       "      <td>0.014872</td>\n",
       "    </tr>\n",
       "    <tr>\n",
       "      <th>table</th>\n",
       "      <td>0.174722</td>\n",
       "      <td>-0.422856</td>\n",
       "      <td>-0.145960</td>\n",
       "      <td>-0.257089</td>\n",
       "      <td>1.000000</td>\n",
       "      <td>0.178694</td>\n",
       "      <td>0.172060</td>\n",
       "      <td>0.144652</td>\n",
       "      <td>-0.006916</td>\n",
       "      <td>0.009768</td>\n",
       "      <td>-0.000455</td>\n",
       "      <td>-0.036469</td>\n",
       "      <td>0.013021</td>\n",
       "      <td>0.015924</td>\n",
       "      <td>0.036619</td>\n",
       "    </tr>\n",
       "    <tr>\n",
       "      <th>x</th>\n",
       "      <td>0.979011</td>\n",
       "      <td>-0.113188</td>\n",
       "      <td>-0.320383</td>\n",
       "      <td>-0.023352</td>\n",
       "      <td>0.178694</td>\n",
       "      <td>1.000000</td>\n",
       "      <td>0.997929</td>\n",
       "      <td>0.989919</td>\n",
       "      <td>-0.083326</td>\n",
       "      <td>-0.115471</td>\n",
       "      <td>-0.022409</td>\n",
       "      <td>-0.002458</td>\n",
       "      <td>0.098987</td>\n",
       "      <td>0.117512</td>\n",
       "      <td>0.119340</td>\n",
       "    </tr>\n",
       "    <tr>\n",
       "      <th>y</th>\n",
       "      <td>0.977812</td>\n",
       "      <td>-0.115529</td>\n",
       "      <td>-0.315191</td>\n",
       "      <td>-0.025598</td>\n",
       "      <td>0.172060</td>\n",
       "      <td>0.997929</td>\n",
       "      <td>1.000000</td>\n",
       "      <td>0.989306</td>\n",
       "      <td>-0.083071</td>\n",
       "      <td>-0.115333</td>\n",
       "      <td>-0.021972</td>\n",
       "      <td>-0.002309</td>\n",
       "      <td>0.097418</td>\n",
       "      <td>0.118049</td>\n",
       "      <td>0.119589</td>\n",
       "    </tr>\n",
       "    <tr>\n",
       "      <th>z</th>\n",
       "      <td>0.975435</td>\n",
       "      <td>-0.139107</td>\n",
       "      <td>-0.321890</td>\n",
       "      <td>0.093842</td>\n",
       "      <td>0.144652</td>\n",
       "      <td>0.989919</td>\n",
       "      <td>0.989306</td>\n",
       "      <td>1.000000</td>\n",
       "      <td>-0.083906</td>\n",
       "      <td>-0.117114</td>\n",
       "      <td>-0.023288</td>\n",
       "      <td>-0.001883</td>\n",
       "      <td>0.100008</td>\n",
       "      <td>0.119190</td>\n",
       "      <td>0.120367</td>\n",
       "    </tr>\n",
       "    <tr>\n",
       "      <th>color_D</th>\n",
       "      <td>-0.085474</td>\n",
       "      <td>0.004457</td>\n",
       "      <td>-0.081518</td>\n",
       "      <td>-0.010419</td>\n",
       "      <td>-0.006916</td>\n",
       "      <td>-0.083326</td>\n",
       "      <td>-0.083071</td>\n",
       "      <td>-0.083906</td>\n",
       "      <td>1.000000</td>\n",
       "      <td>-0.184645</td>\n",
       "      <td>-0.179505</td>\n",
       "      <td>-0.208632</td>\n",
       "      <td>-0.148385</td>\n",
       "      <td>-0.097733</td>\n",
       "      <td>-0.049481</td>\n",
       "    </tr>\n",
       "    <tr>\n",
       "      <th>color_E</th>\n",
       "      <td>-0.124199</td>\n",
       "      <td>-0.000170</td>\n",
       "      <td>-0.047616</td>\n",
       "      <td>-0.022630</td>\n",
       "      <td>0.009768</td>\n",
       "      <td>-0.115471</td>\n",
       "      <td>-0.115333</td>\n",
       "      <td>-0.117114</td>\n",
       "      <td>-0.184645</td>\n",
       "      <td>1.000000</td>\n",
       "      <td>-0.246606</td>\n",
       "      <td>-0.284178</td>\n",
       "      <td>-0.208808</td>\n",
       "      <td>-0.144855</td>\n",
       "      <td>-0.083196</td>\n",
       "    </tr>\n",
       "    <tr>\n",
       "      <th>color_F</th>\n",
       "      <td>-0.035231</td>\n",
       "      <td>-0.008127</td>\n",
       "      <td>0.005973</td>\n",
       "      <td>-0.013430</td>\n",
       "      <td>-0.000455</td>\n",
       "      <td>-0.022409</td>\n",
       "      <td>-0.021972</td>\n",
       "      <td>-0.023288</td>\n",
       "      <td>-0.179505</td>\n",
       "      <td>-0.246606</td>\n",
       "      <td>1.000000</td>\n",
       "      <td>-0.277252</td>\n",
       "      <td>-0.203077</td>\n",
       "      <td>-0.140202</td>\n",
       "      <td>-0.079661</td>\n",
       "    </tr>\n",
       "    <tr>\n",
       "      <th>color_G</th>\n",
       "      <td>-0.009006</td>\n",
       "      <td>0.043150</td>\n",
       "      <td>0.122585</td>\n",
       "      <td>0.003920</td>\n",
       "      <td>-0.036469</td>\n",
       "      <td>-0.002458</td>\n",
       "      <td>-0.002309</td>\n",
       "      <td>-0.001883</td>\n",
       "      <td>-0.208632</td>\n",
       "      <td>-0.284178</td>\n",
       "      <td>-0.277252</td>\n",
       "      <td>1.000000</td>\n",
       "      <td>-0.235767</td>\n",
       "      <td>-0.165020</td>\n",
       "      <td>-0.096662</td>\n",
       "    </tr>\n",
       "    <tr>\n",
       "      <th>color_H</th>\n",
       "      <td>0.108798</td>\n",
       "      <td>-0.016825</td>\n",
       "      <td>-0.022093</td>\n",
       "      <td>0.023663</td>\n",
       "      <td>0.013021</td>\n",
       "      <td>0.098987</td>\n",
       "      <td>0.097418</td>\n",
       "      <td>0.100008</td>\n",
       "      <td>-0.148385</td>\n",
       "      <td>-0.208808</td>\n",
       "      <td>-0.203077</td>\n",
       "      <td>-0.235767</td>\n",
       "      <td>1.000000</td>\n",
       "      <td>-0.111751</td>\n",
       "      <td>-0.057722</td>\n",
       "    </tr>\n",
       "    <tr>\n",
       "      <th>color_I</th>\n",
       "      <td>0.137890</td>\n",
       "      <td>-0.017100</td>\n",
       "      <td>0.002139</td>\n",
       "      <td>0.021352</td>\n",
       "      <td>0.015924</td>\n",
       "      <td>0.117512</td>\n",
       "      <td>0.118049</td>\n",
       "      <td>0.119190</td>\n",
       "      <td>-0.097733</td>\n",
       "      <td>-0.144855</td>\n",
       "      <td>-0.140202</td>\n",
       "      <td>-0.165020</td>\n",
       "      <td>-0.111751</td>\n",
       "      <td>1.000000</td>\n",
       "      <td>-0.026100</td>\n",
       "    </tr>\n",
       "    <tr>\n",
       "      <th>color_J</th>\n",
       "      <td>0.141862</td>\n",
       "      <td>-0.042756</td>\n",
       "      <td>-0.018233</td>\n",
       "      <td>0.014872</td>\n",
       "      <td>0.036619</td>\n",
       "      <td>0.119340</td>\n",
       "      <td>0.119589</td>\n",
       "      <td>0.120367</td>\n",
       "      <td>-0.049481</td>\n",
       "      <td>-0.083196</td>\n",
       "      <td>-0.079661</td>\n",
       "      <td>-0.096662</td>\n",
       "      <td>-0.057722</td>\n",
       "      <td>-0.026100</td>\n",
       "      <td>1.000000</td>\n",
       "    </tr>\n",
       "  </tbody>\n",
       "</table>\n",
       "</div>"
      ],
      "text/plain": [
       "            carat       cut   clarity     depth     table         x         y  \\\n",
       "carat    1.000000 -0.131246 -0.299308  0.026642  0.174722  0.979011  0.977812   \n",
       "cut     -0.131246  1.000000  0.158073 -0.219491 -0.422856 -0.113188 -0.115529   \n",
       "clarity -0.299308  0.158073  1.000000 -0.056163 -0.145960 -0.320383 -0.315191   \n",
       "depth    0.026642 -0.219491 -0.056163  1.000000 -0.257089 -0.023352 -0.025598   \n",
       "table    0.174722 -0.422856 -0.145960 -0.257089  1.000000  0.178694  0.172060   \n",
       "x        0.979011 -0.113188 -0.320383 -0.023352  0.178694  1.000000  0.997929   \n",
       "y        0.977812 -0.115529 -0.315191 -0.025598  0.172060  0.997929  1.000000   \n",
       "z        0.975435 -0.139107 -0.321890  0.093842  0.144652  0.989919  0.989306   \n",
       "color_D -0.085474  0.004457 -0.081518 -0.010419 -0.006916 -0.083326 -0.083071   \n",
       "color_E -0.124199 -0.000170 -0.047616 -0.022630  0.009768 -0.115471 -0.115333   \n",
       "color_F -0.035231 -0.008127  0.005973 -0.013430 -0.000455 -0.022409 -0.021972   \n",
       "color_G -0.009006  0.043150  0.122585  0.003920 -0.036469 -0.002458 -0.002309   \n",
       "color_H  0.108798 -0.016825 -0.022093  0.023663  0.013021  0.098987  0.097418   \n",
       "color_I  0.137890 -0.017100  0.002139  0.021352  0.015924  0.117512  0.118049   \n",
       "color_J  0.141862 -0.042756 -0.018233  0.014872  0.036619  0.119340  0.119589   \n",
       "\n",
       "                z   color_D   color_E   color_F   color_G   color_H   color_I  \\\n",
       "carat    0.975435 -0.085474 -0.124199 -0.035231 -0.009006  0.108798  0.137890   \n",
       "cut     -0.139107  0.004457 -0.000170 -0.008127  0.043150 -0.016825 -0.017100   \n",
       "clarity -0.321890 -0.081518 -0.047616  0.005973  0.122585 -0.022093  0.002139   \n",
       "depth    0.093842 -0.010419 -0.022630 -0.013430  0.003920  0.023663  0.021352   \n",
       "table    0.144652 -0.006916  0.009768 -0.000455 -0.036469  0.013021  0.015924   \n",
       "x        0.989919 -0.083326 -0.115471 -0.022409 -0.002458  0.098987  0.117512   \n",
       "y        0.989306 -0.083071 -0.115333 -0.021972 -0.002309  0.097418  0.118049   \n",
       "z        1.000000 -0.083906 -0.117114 -0.023288 -0.001883  0.100008  0.119190   \n",
       "color_D -0.083906  1.000000 -0.184645 -0.179505 -0.208632 -0.148385 -0.097733   \n",
       "color_E -0.117114 -0.184645  1.000000 -0.246606 -0.284178 -0.208808 -0.144855   \n",
       "color_F -0.023288 -0.179505 -0.246606  1.000000 -0.277252 -0.203077 -0.140202   \n",
       "color_G -0.001883 -0.208632 -0.284178 -0.277252  1.000000 -0.235767 -0.165020   \n",
       "color_H  0.100008 -0.148385 -0.208808 -0.203077 -0.235767  1.000000 -0.111751   \n",
       "color_I  0.119190 -0.097733 -0.144855 -0.140202 -0.165020 -0.111751  1.000000   \n",
       "color_J  0.120367 -0.049481 -0.083196 -0.079661 -0.096662 -0.057722 -0.026100   \n",
       "\n",
       "          color_J  \n",
       "carat    0.141862  \n",
       "cut     -0.042756  \n",
       "clarity -0.018233  \n",
       "depth    0.014872  \n",
       "table    0.036619  \n",
       "x        0.119340  \n",
       "y        0.119589  \n",
       "z        0.120367  \n",
       "color_D -0.049481  \n",
       "color_E -0.083196  \n",
       "color_F -0.079661  \n",
       "color_G -0.096662  \n",
       "color_H -0.057722  \n",
       "color_I -0.026100  \n",
       "color_J  1.000000  "
      ]
     },
     "execution_count": 82,
     "metadata": {},
     "output_type": "execute_result"
    }
   ],
   "source": [
    "X_pr.corr()"
   ]
  },
  {
   "cell_type": "code",
   "execution_count": 87,
   "metadata": {},
   "outputs": [],
   "source": [
    "X_pr_drop = X_pr.drop(columns=['x','y'])"
   ]
  },
  {
   "cell_type": "code",
   "execution_count": 88,
   "metadata": {},
   "outputs": [],
   "source": [
    "X_prdrop_train, X_prdrop_test, y_prdrop_train, y_prdrop_test = train_test_split(X_pr_drop, y, test_size=0.2)"
   ]
  },
  {
   "cell_type": "code",
   "execution_count": 90,
   "metadata": {},
   "outputs": [
    {
     "data": {
      "text/plain": [
       "LinearRegression(copy_X=True, fit_intercept=True, n_jobs=None, normalize=False)"
      ]
     },
     "execution_count": 90,
     "metadata": {},
     "output_type": "execute_result"
    }
   ],
   "source": [
    "model_7 = LinearRegression()\n",
    "model_7.fit(X_prdrop_train, y_prdrop_train)"
   ]
  },
  {
   "cell_type": "code",
   "execution_count": 91,
   "metadata": {},
   "outputs": [
    {
     "data": {
      "text/plain": [
       "array([ 2042.04679129,   737.7502436 ,  1107.16378953, ...,\n",
       "        5809.07563361, 14580.25151472,  1548.45324385])"
      ]
     },
     "execution_count": 91,
     "metadata": {},
     "output_type": "execute_result"
    }
   ],
   "source": [
    "y_prdrop_pred = model_7.predict(X_prdrop_test)\n",
    "y_prdrop_pred"
   ]
  },
  {
   "cell_type": "code",
   "execution_count": 93,
   "metadata": {},
   "outputs": [
    {
     "name": "stdout",
     "output_type": "stream",
     "text": [
      "MSE: 1572142.1735\n"
     ]
    }
   ],
   "source": [
    "mse7 = mean_squared_error(y_prdrop_test, y_prdrop_pred)\n",
    "print(\"MSE: %.4f\" % mse7)"
   ]
  },
  {
   "cell_type": "code",
   "execution_count": 94,
   "metadata": {},
   "outputs": [
    {
     "data": {
      "text/plain": [
       "LinearRegression(copy_X=True, fit_intercept=True, n_jobs=None, normalize=False)"
      ]
     },
     "execution_count": 94,
     "metadata": {},
     "output_type": "execute_result"
    }
   ],
   "source": [
    "model_8 = LinearRegression()\n",
    "model_8.fit(X_pr_drop, y)"
   ]
  },
  {
   "cell_type": "code",
   "execution_count": 96,
   "metadata": {},
   "outputs": [],
   "source": [
    "y_pred_mod8 = model_8.predict(X2_pr.drop(columns=['x','y']))"
   ]
  },
  {
   "cell_type": "code",
   "execution_count": 97,
   "metadata": {},
   "outputs": [],
   "source": [
    "diamonds_test['price']=y_pred_mod8\n",
    "price_pred_4  = diamonds_test[['id','price']].set_index('id')\n",
    "price_pred_4.to_csv('8_predict.csv', index=True)"
   ]
  },
  {
   "cell_type": "markdown",
   "metadata": {},
   "source": [
    "## Eliminamos las columnas 'x' e 'y' del dataset original sin norm ni stand\n",
    "### { de momento el que mejor funciona}"
   ]
  },
  {
   "cell_type": "code",
   "execution_count": 98,
   "metadata": {},
   "outputs": [],
   "source": [
    "X3 = diamonds.drop(columns = ['id', 'price','x','y'])\n",
    "y3 = diamonds['price']"
   ]
  },
  {
   "cell_type": "code",
   "execution_count": 99,
   "metadata": {},
   "outputs": [],
   "source": [
    "model_9 = model_4.fit(X3, y3)"
   ]
  },
  {
   "cell_type": "code",
   "execution_count": 100,
   "metadata": {},
   "outputs": [],
   "source": [
    "y9_pred = model_9.predict(X2.drop(columns=['x','y']))"
   ]
  },
  {
   "cell_type": "code",
   "execution_count": 101,
   "metadata": {},
   "outputs": [],
   "source": [
    "diamonds_test['price']=y9_pred\n",
    "price_pred_5  = diamonds_test[['id','price']].set_index('id')\n",
    "price_pred_5.to_csv('9_predict.csv', index=True)"
   ]
  },
  {
   "cell_type": "markdown",
   "metadata": {},
   "source": [
    "### probamos lo mismo pero con gradientboost"
   ]
  },
  {
   "cell_type": "code",
   "execution_count": 102,
   "metadata": {},
   "outputs": [],
   "source": [
    "model_10 = model_6.fit(X3, y3)"
   ]
  },
  {
   "cell_type": "code",
   "execution_count": 103,
   "metadata": {},
   "outputs": [],
   "source": [
    "y10_pred = model_10.predict(X2.drop(columns=['x','y']))"
   ]
  },
  {
   "cell_type": "code",
   "execution_count": 104,
   "metadata": {},
   "outputs": [],
   "source": [
    "diamonds_test['price']=y10_pred\n",
    "price_pred_6  = diamonds_test[['id','price']].set_index('id')\n",
    "price_pred_6.to_csv('10_predict.csv', index=True)"
   ]
  },
  {
   "cell_type": "markdown",
   "metadata": {},
   "source": [
    "## probamos Random Forest con otros parametros y mismo train y test\n",
    "### {funciona un poco mejor}\n"
   ]
  },
  {
   "cell_type": "code",
   "execution_count": 105,
   "metadata": {},
   "outputs": [],
   "source": [
    "model_11 = RandomForestRegressor(n_estimators = 1000, random_state = 42)"
   ]
  },
  {
   "cell_type": "code",
   "execution_count": 106,
   "metadata": {},
   "outputs": [
    {
     "data": {
      "text/plain": [
       "RandomForestRegressor(bootstrap=True, ccp_alpha=0.0, criterion='mse',\n",
       "                      max_depth=None, max_features='auto', max_leaf_nodes=None,\n",
       "                      max_samples=None, min_impurity_decrease=0.0,\n",
       "                      min_impurity_split=None, min_samples_leaf=1,\n",
       "                      min_samples_split=2, min_weight_fraction_leaf=0.0,\n",
       "                      n_estimators=1000, n_jobs=None, oob_score=False,\n",
       "                      random_state=42, verbose=0, warm_start=False)"
      ]
     },
     "execution_count": 106,
     "metadata": {},
     "output_type": "execute_result"
    }
   ],
   "source": [
    "model_11.fit(X3, y3)"
   ]
  },
  {
   "cell_type": "code",
   "execution_count": 107,
   "metadata": {},
   "outputs": [],
   "source": [
    "y11_pred = model_11.predict(X2.drop(columns=['x','y']))"
   ]
  },
  {
   "cell_type": "code",
   "execution_count": 108,
   "metadata": {},
   "outputs": [],
   "source": [
    "diamonds_test['price']=y11_pred\n",
    "price_pred_7  = diamonds_test[['id','price']].set_index('id')\n",
    "price_pred_7.to_csv('11_predict.csv', index=True)"
   ]
  },
  {
   "cell_type": "markdown",
   "metadata": {},
   "source": [
    "## Probamoos RFR eliminando las columnas 'table' y 'cut'\n",
    "### {no funciona mejor }"
   ]
  },
  {
   "cell_type": "code",
   "execution_count": 109,
   "metadata": {},
   "outputs": [],
   "source": [
    "importances = list(model_11.feature_importances_)"
   ]
  },
  {
   "cell_type": "code",
   "execution_count": 113,
   "metadata": {},
   "outputs": [
    {
     "name": "stdout",
     "output_type": "stream",
     "text": [
      "Variable: carat                Importance: 0.88\n",
      "Variable: clarity              Importance: 0.07\n",
      "Variable: depth                Importance: 0.01\n",
      "Variable: z                    Importance: 0.01\n",
      "Variable: color_H              Importance: 0.01\n",
      "Variable: color_I              Importance: 0.01\n",
      "Variable: color_J              Importance: 0.01\n",
      "Variable: cut                  Importance: 0.0\n",
      "Variable: table                Importance: 0.0\n",
      "Variable: color_D              Importance: 0.0\n",
      "Variable: color_E              Importance: 0.0\n",
      "Variable: color_F              Importance: 0.0\n",
      "Variable: color_G              Importance: 0.0\n"
     ]
    },
    {
     "data": {
      "text/plain": [
       "[None, None, None, None, None, None, None, None, None, None, None, None, None]"
      ]
     },
     "execution_count": 113,
     "metadata": {},
     "output_type": "execute_result"
    }
   ],
   "source": [
    "feature_list = list(X3.columns)\n",
    "feature_importances = [(feature, round(importance, 2)) for feature, importance in zip(feature_list, importances)]\n",
    "feature_importances = sorted(feature_importances, key = lambda x: x[1], reverse = True)\n",
    "# Print out the feature and importances \n",
    "[print('Variable: {:20} Importance: {}'.format(*pair)) for pair in feature_importances]"
   ]
  },
  {
   "cell_type": "code",
   "execution_count": 115,
   "metadata": {},
   "outputs": [],
   "source": [
    "X4= X3.drop(columns=['table','cut'])"
   ]
  },
  {
   "cell_type": "code",
   "execution_count": 117,
   "metadata": {},
   "outputs": [],
   "source": [
    "model_12=model_11.fit(X4, y3)"
   ]
  },
  {
   "cell_type": "code",
   "execution_count": 118,
   "metadata": {},
   "outputs": [],
   "source": [
    "y12_pred = model_12.predict(X2.drop(columns=['x','y','table','cut']))"
   ]
  },
  {
   "cell_type": "code",
   "execution_count": 119,
   "metadata": {},
   "outputs": [],
   "source": [
    "diamonds_test['price']=y12_pred\n",
    "price_pred_8  = diamonds_test[['id','price']].set_index('id')\n",
    "price_pred_8.to_csv('12_predict.csv', index=True)"
   ]
  },
  {
   "cell_type": "markdown",
   "metadata": {},
   "source": [
    "## Probamos otra vez con RFR esta vez sin la columna 'z'\n",
    "### {Tampoco funciona mejor}\n"
   ]
  },
  {
   "cell_type": "code",
   "execution_count": 121,
   "metadata": {},
   "outputs": [],
   "source": [
    "X5=X3.drop(columns='z')"
   ]
  },
  {
   "cell_type": "code",
   "execution_count": 122,
   "metadata": {},
   "outputs": [],
   "source": [
    "model_13 = model_11.fit(X5, y3)"
   ]
  },
  {
   "cell_type": "code",
   "execution_count": 123,
   "metadata": {},
   "outputs": [],
   "source": [
    "y13_pred = model_13.predict(X2.drop(columns=['x','y','z']))"
   ]
  },
  {
   "cell_type": "code",
   "execution_count": 124,
   "metadata": {},
   "outputs": [],
   "source": [
    "diamonds_test['price']=y13_pred\n",
    "price_pred_9  = diamonds_test[['id','price']].set_index('id')\n",
    "price_pred_9.to_csv('13_predict.csv', index=True)"
   ]
  },
  {
   "cell_type": "markdown",
   "metadata": {},
   "source": [
    "## Modelo KNeighbors Regressor\n",
    "### {Funciona muy mal }"
   ]
  },
  {
   "cell_type": "code",
   "execution_count": 125,
   "metadata": {},
   "outputs": [
    {
     "data": {
      "text/plain": [
       "KNeighborsRegressor(algorithm='auto', leaf_size=30, metric='minkowski',\n",
       "                    metric_params=None, n_jobs=None, n_neighbors=2, p=2,\n",
       "                    weights='uniform')"
      ]
     },
     "execution_count": 125,
     "metadata": {},
     "output_type": "execute_result"
    }
   ],
   "source": [
    "from sklearn.neighbors import KNeighborsRegressor\n",
    "model_14 = KNeighborsRegressor(n_neighbors=2)\n",
    "model_14.fit(X3, y3)"
   ]
  },
  {
   "cell_type": "code",
   "execution_count": 126,
   "metadata": {},
   "outputs": [],
   "source": [
    "y14_pred = model_14.predict(X2.drop(columns=['x','y']))"
   ]
  },
  {
   "cell_type": "code",
   "execution_count": 127,
   "metadata": {},
   "outputs": [],
   "source": [
    "diamonds_test['price']=y14_pred\n",
    "price_pred_10  = diamonds_test[['id','price']].set_index('id')\n",
    "price_pred_10.to_csv('14_predict.csv', index=True)"
   ]
  },
  {
   "cell_type": "code",
   "execution_count": null,
   "metadata": {},
   "outputs": [],
   "source": []
  }
 ],
 "metadata": {
  "kernelspec": {
   "display_name": "Python 3",
   "language": "python",
   "name": "python3"
  },
  "language_info": {
   "codemirror_mode": {
    "name": "ipython",
    "version": 3
   },
   "file_extension": ".py",
   "mimetype": "text/x-python",
   "name": "python",
   "nbconvert_exporter": "python",
   "pygments_lexer": "ipython3",
   "version": "3.7.5"
  }
 },
 "nbformat": 4,
 "nbformat_minor": 4
}
